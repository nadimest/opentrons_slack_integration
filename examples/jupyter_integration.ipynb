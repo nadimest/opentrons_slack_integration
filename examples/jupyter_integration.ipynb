{
 "cells": [
  {
   "cell_type": "markdown",
   "metadata": {},
   "source": [
    "## Enable the Slack posting functionality (required after robot reboot) ##"
   ]
  },
  {
   "cell_type": "code",
   "execution_count": 2,
   "metadata": {},
   "outputs": [],
   "source": [
    "!(echo 'nameserver 8.8.8.8' > /etc/resolv.conf)"
   ]
  },
  {
   "cell_type": "markdown",
   "metadata": {},
   "source": [
    "This is needed so urlib can post requests, else the urlopen method will complain. (It seems to be a DNS issue, which I verified by opening resolv.conf and finding no DNS server)"
   ]
  },
  {
   "cell_type": "markdown",
   "metadata": {},
   "source": [
    "### Send Slack Message ###"
   ]
  },
  {
   "cell_type": "code",
   "execution_count": 7,
   "metadata": {},
   "outputs": [
    {
     "name": "stdout",
     "output_type": "stream",
     "text": [
      "ok\n"
     ]
    }
   ],
   "source": [
    "SLACK_WEBHOOK= \"YOUR_WEBHOOK_ADDRESS\"\n",
    "\n",
    "import json\n",
    "import urllib.request\n",
    "\n",
    "def sendMessageToSlack(message,slack_webhook):\n",
    "    data = {\"text\":message}\n",
    "    data = json.dumps(data)\n",
    "\n",
    "    req = urllib.request.Request(url = slack_webhook, data = bytes(data.encode(\"utf-8\")), method = \"POST\")\n",
    "\n",
    "    req.add_header(\"Content-type\", \"application/json\")\n",
    "\n",
    "    with urllib.request.urlopen(req) as resp:\n",
    "        print(resp.read().decode())\n",
    "               \n",
    "sendMessageToSlack(\"Help, I am trapped inside this robot!\", SLACK_WEBHOOK)"
   ]
  },
  {
   "cell_type": "markdown",
   "metadata": {},
   "source": [
    "### Integration with a simple Protocol ###"
   ]
  },
  {
   "cell_type": "code",
   "execution_count": null,
   "metadata": {},
   "outputs": [],
   "source": [
    "SLACK_WEBHOOK= \"YOUR_WEBHOOK_ADDRESS\"\n",
    "\n",
    "from opentrons import protocol_api, robot\n",
    "\n",
    "robot.connect()  # Comment this line if you just want to run a simulation\n",
    "\n",
    "import json\n",
    "import urllib.request\n",
    "\n",
    "def sendMessageToSlack(message,slack_webhook):\n",
    "    data = {\"text\":message}\n",
    "    data = json.dumps(data)\n",
    "\n",
    "    req = urllib.request.Request(url = slack_webhook, data = bytes(data.encode(\"utf-8\")), method = \"POST\")\n",
    "\n",
    "    req.add_header(\"Content-type\", \"application/json\")\n",
    "\n",
    "    with urllib.request.urlopen(req) as resp:\n",
    "        print(resp.read().decode())\n",
    "        \n",
    "        \n",
    "metadata = {'apiLevel': '2.2'}\n",
    "\n",
    "def run(protocol: protocol_api.ProtocolContext):\n",
    "    plate = protocol.load_labware('corning_96_wellplate_360ul_flat', 1)\n",
    "    tiprack_1 = protocol.load_labware('opentrons_96_tiprack_300ul', 2)\n",
    "    p300 = protocol.load_instrument('p300_single', 'right', tip_racks=[tiprack_1])\n",
    "\n",
    "    p300.transfer(100, plate['A1'], plate['B1'])\n",
    "    \n",
    "    sendMessageToSlack(\"Help, I am trapped inside this robot!\", SLACK_WEBHOOK)\n",
    "    \n",
    "    p300.transfer(100, plate['B1'], plate['A1'])\n",
    "    \n",
    "    sendMessageToSlack(\"Please! Somebody! Help me!!!\", SLACK_WEBHOOK)"
   ]
  }
 ],
 "metadata": {
  "kernelspec": {
   "display_name": "Python 3",
   "language": "python",
   "name": "python3"
  },
  "language_info": {
   "codemirror_mode": {
    "name": "ipython",
    "version": 3
   },
   "file_extension": ".py",
   "mimetype": "text/x-python",
   "name": "python",
   "nbconvert_exporter": "python",
   "pygments_lexer": "ipython3",
   "version": "3.7.1"
  }
 },
 "nbformat": 4,
 "nbformat_minor": 2
}
